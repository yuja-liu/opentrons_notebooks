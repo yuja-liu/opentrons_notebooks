{
 "cells": [
  {
   "cell_type": "code",
   "execution_count": 1,
   "metadata": {},
   "outputs": [],
   "source": [
    "import opentrons.execute\n",
    "from opentrons import protocol_api\n",
    "\n",
    "# >= v2.13 is required for the thermocycler module\n",
    "protocol = opentrons.execute.get_protocol_api(\"2.13\")\n",
    "\n",
    "protocol.set_rail_lights(False)\n",
    "protocol.home()"
   ]
  },
  {
   "cell_type": "code",
   "execution_count": 2,
   "metadata": {},
   "outputs": [],
   "source": [
    "tc_mod = protocol.load_module(module_name='thermocyclerModuleV2')"
   ]
  },
  {
   "cell_type": "code",
   "execution_count": 3,
   "metadata": {},
   "outputs": [
    {
     "name": "stderr",
     "output_type": "stream",
     "text": [
      "Cannot assure a safe gantry position to avoid colliding with the lid of the Thermocycler Module.\n"
     ]
    }
   ],
   "source": [
    "protocol.set_rail_lights(True)\n",
    "\n",
    "tc_mod.close_lid()\n",
    "# it's okay to set lid to 105C if volume is small\n",
    "tc_mod.set_lid_temperature(temperature=30)\n",
    "tc_mod.set_block_temperature(temperature=30)"
   ]
  },
  {
   "cell_type": "code",
   "execution_count": 4,
   "metadata": {},
   "outputs": [],
   "source": [
    "# finishing up\n",
    "protocol.set_rail_lights(False)\n",
    "tc_mod.deactivate()"
   ]
  }
 ],
 "metadata": {
  "kernelspec": {
   "display_name": "Python 3",
   "language": "python",
   "name": "python3"
  },
  "language_info": {
   "codemirror_mode": {
    "name": "ipython",
    "version": 3
   },
   "file_extension": ".py",
   "mimetype": "text/x-python",
   "name": "python",
   "nbconvert_exporter": "python",
   "pygments_lexer": "ipython3",
   "version": "3.7.1"
  }
 },
 "nbformat": 4,
 "nbformat_minor": 2
}
