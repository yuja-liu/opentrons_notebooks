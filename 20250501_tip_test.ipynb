{
 "cells": [
  {
   "cell_type": "code",
   "execution_count": 1,
   "id": "481bc28d",
   "metadata": {},
   "outputs": [],
   "source": [
    "import numpy as np\n",
    "import opentrons.execute\n",
    "from opentrons import protocol_api\n",
    "from src.pipette_viscous import transfer_viscous,aspirate_viscous, dispense_viscous, calibrated_viscous"
   ]
  },
  {
   "cell_type": "code",
   "execution_count": 2,
   "id": "12f20f14",
   "metadata": {},
   "outputs": [],
   "source": [
    "protocol = opentrons.execute.get_protocol_api(\"2.22\")\n",
    "\n",
    "protocol.set_rail_lights(True)\n",
    "protocol.home()"
   ]
  },
  {
   "cell_type": "code",
   "execution_count": 3,
   "id": "7fdca085",
   "metadata": {},
   "outputs": [],
   "source": [
    "tip_rack_1 = protocol.load_labware(\"geb_taller_96_tiprack_10ul\", '4')\n",
    "\n",
    "tc_mod = protocol.load_module(module_name='thermocyclerModuleV2')\n",
    "plate = tc_mod.load_labware(name='biorad_96_wellplate_200ul_calibrated')\n",
    "\n",
    "pipette = protocol.load_instrument(\"p10_single\", \"left\", tip_racks = [tip_rack_1])"
   ]
  },
  {
   "cell_type": "code",
   "execution_count": 4,
   "id": "c7ffe913",
   "metadata": {},
   "outputs": [
    {
     "data": {
      "text/plain": [
       "<InstrumentContext: p10_single_v1.5 in LEFT>"
      ]
     },
     "execution_count": 4,
     "metadata": {},
     "output_type": "execute_result"
    }
   ],
   "source": [
    "pipette.pick_up_tip()"
   ]
  },
  {
   "cell_type": "code",
   "execution_count": 4,
   "id": "1f3fb2f4",
   "metadata": {},
   "outputs": [
    {
     "data": {
      "text/plain": [
       "'open'"
      ]
     },
     "execution_count": 4,
     "metadata": {},
     "output_type": "execute_result"
    }
   ],
   "source": [
    "tc_mod.open_lid()"
   ]
  },
  {
   "cell_type": "code",
   "execution_count": 10,
   "id": "a70d535b",
   "metadata": {},
   "outputs": [
    {
     "data": {
      "text/plain": [
       "<InstrumentContext: p10_single_v1.5 in LEFT>"
      ]
     },
     "execution_count": 10,
     "metadata": {},
     "output_type": "execute_result"
    }
   ],
   "source": [
    "pipette.move_to(plate.wells()[0].bottom(0.5))"
   ]
  },
  {
   "cell_type": "code",
   "execution_count": 11,
   "id": "ea6c58b6",
   "metadata": {},
   "outputs": [
    {
     "data": {
      "text/plain": [
       "<InstrumentContext: p10_single_v1.5 in LEFT>"
      ]
     },
     "execution_count": 11,
     "metadata": {},
     "output_type": "execute_result"
    }
   ],
   "source": [
    "pipette.aspirate(10)"
   ]
  },
  {
   "cell_type": "code",
   "execution_count": 12,
   "id": "76a78374",
   "metadata": {},
   "outputs": [
    {
     "data": {
      "text/plain": [
       "<InstrumentContext: p10_single_v1.5 in LEFT>"
      ]
     },
     "execution_count": 12,
     "metadata": {},
     "output_type": "execute_result"
    }
   ],
   "source": [
    "pipette.move_to(plate.wells()[0].top())"
   ]
  },
  {
   "cell_type": "code",
   "execution_count": 17,
   "id": "b0e97401",
   "metadata": {},
   "outputs": [
    {
     "data": {
      "text/plain": [
       "<InstrumentContext: p10_single_v1.5 in LEFT>"
      ]
     },
     "execution_count": 17,
     "metadata": {},
     "output_type": "execute_result"
    }
   ],
   "source": [
    "pipette.move_to(plate.wells_by_name()[\"A6\"].top())"
   ]
  },
  {
   "cell_type": "code",
   "execution_count": 15,
   "id": "89a4961e",
   "metadata": {},
   "outputs": [
    {
     "data": {
      "text/plain": [
       "<InstrumentContext: p10_single_v1.5 in LEFT>"
      ]
     },
     "execution_count": 15,
     "metadata": {},
     "output_type": "execute_result"
    }
   ],
   "source": [
    "pipette.dispense(10)"
   ]
  },
  {
   "cell_type": "code",
   "execution_count": 18,
   "id": "e88d736b",
   "metadata": {},
   "outputs": [
    {
     "data": {
      "text/plain": [
       "<InstrumentContext: p10_single_v1.5 in LEFT>"
      ]
     },
     "execution_count": 18,
     "metadata": {},
     "output_type": "execute_result"
    }
   ],
   "source": [
    "pipette.drop_tip()"
   ]
  },
  {
   "cell_type": "code",
   "execution_count": 5,
   "id": "a00a270d",
   "metadata": {},
   "outputs": [],
   "source": [
    "transfer_viscous(pipette, protocol, calibrated_viscous(2 - 0.4),\n",
    "                     plate.wells_by_name()[\"A1\"],\n",
    "                     plate.wells_by_name()[\"B7\"],\n",
    "                     asp_height=1.5, \n",
    "                     disp_height=0.5,\n",
    "                     delay=0, \n",
    "                     if_touch_tip=False, \n",
    "                     if_mix=True, \n",
    "                     if_blowout=True)"
   ]
  },
  {
   "cell_type": "code",
   "execution_count": 7,
   "id": "51f40e6d",
   "metadata": {},
   "outputs": [],
   "source": [
    "protocol.set_rail_lights(False)"
   ]
  },
  {
   "cell_type": "code",
   "execution_count": null,
   "id": "d79c5e0b",
   "metadata": {},
   "outputs": [],
   "source": []
  }
 ],
 "metadata": {
  "kernelspec": {
   "display_name": "Python 3 (ipykernel)",
   "language": "python",
   "name": "python3"
  },
  "language_info": {
   "codemirror_mode": {
    "name": "ipython",
    "version": 3
   },
   "file_extension": ".py",
   "mimetype": "text/x-python",
   "name": "python",
   "nbconvert_exporter": "python",
   "pygments_lexer": "ipython3",
   "version": "3.10.8"
  }
 },
 "nbformat": 4,
 "nbformat_minor": 5
}
