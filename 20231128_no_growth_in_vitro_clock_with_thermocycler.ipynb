{
 "cells": [
  {
   "cell_type": "markdown",
   "metadata": {},
   "source": [
    "# Normal in vitro clock\n",
    "\n",
    "The circadian clock of cyanobacteria *Synechococcus elongatus PCC 7942* can be reconstructed *in vitro*.\n",
    "This protocol samples such an *in vitro* clock with uniform time intervals.\n",
    "\n",
    "2024/8/23 Remove dye pipetting commands. Will need to add dye before the robot run\n",
    "\n",
    "2025/1/10 Decreased sample volume from 6ul to 2ul. There isn't much of a point in keeping a \"backup volume\".\n",
    "Change sampling interval to 3.5 hours so that the sampling scheme is not in sync with the circadian program\n",
    "\n",
    "2025/2/15 Increased safe volume from 20 to 30 ul and lowered the aspiration height from 2 to 1.5 mm to avoid missing the last few samples\n",
    "\n",
    "## Initialize the protocol"
   ]
  },
  {
   "cell_type": "code",
   "execution_count": 1,
   "metadata": {},
   "outputs": [],
   "source": [
    "# current working dir is /var/lib/jupyter/notebooks\n",
    "import opentrons.execute\n",
    "from opentrons import protocol_api\n",
    "import numpy as np\n",
    "from src.pipette_viscous import transfer_viscous,aspirate_viscous, dispense_viscous, calibrated_viscous\n",
    "import src.scheduler as scheduler\n",
    "from src.evap_standard_curve import *\n",
    "import time\n",
    "\n",
    "# start the protocol context\n",
    "protocol = opentrons.execute.get_protocol_api(\"2.22\")\n",
    "\n",
    "# home is required\n",
    "protocol.set_rail_lights(False)\n",
    "protocol.home()"
   ]
  },
  {
   "cell_type": "markdown",
   "metadata": {},
   "source": [
    "## Load labware\n",
    "\n",
    "- The thermocycler is mounted to slot 7 and 10 (can't be changed)\n",
    "- The Bio-rad/Eppendorf PCR plate sits in the thermocycler (to hold both the reaction and the samples)\n",
    "- The GEB tip racks are on slot 4 and 5 (closest slots to the thermocycler to minimize moving time)\n",
    "- The P10 1st gen pipette is on the left"
   ]
  },
  {
   "cell_type": "code",
   "execution_count": 2,
   "metadata": {},
   "outputs": [],
   "source": [
    "tip_rack_1 = protocol.load_labware(\"geb_taller_96_tiprack_10ul\", '4')\n",
    "\n",
    "tc_mod = protocol.load_module(module_name='thermocyclerModuleV2')\n",
    "\n",
    "# Use Eppendorf twintec LoBind plates cat:14-380-052\n",
    "# it has similar enough dimensions to the Biorad one\n",
    "plate = tc_mod.load_labware(name='biorad_96_wellplate_200ul_calibrated')\n",
    "\n",
    "pipette = protocol.load_instrument(\"p10_single\", \"left\", \n",
    "                                   tip_racks = [tip_rack_1])"
   ]
  },
  {
   "cell_type": "markdown",
   "metadata": {},
   "source": [
    "## Sampling and liquid settings\n"
   ]
  },
  {
   "cell_type": "code",
   "execution_count": 3,
   "metadata": {},
   "outputs": [],
   "source": [
    "#!!! change to 4 hours in an experimental run !!!\n",
    "SAMPLE_INT = 3.5*60    # time interval in minutes\n",
    "\n",
    "SAMPLE_STEPS = 21    # plus the initial sampling, in total sample SAMPLE_STEPS + 1 times\n",
    "SAMPLE_VOL = 2    # ul, volume per sample\n",
    "SAMPLE_OFFSET = 48    # define the starting well: only use the right half of the plate. First sample well is A7\n",
    "\n",
    "RM_OFFSET = 0.4\n",
    "\n",
    "RXN_TUBE = plate.wells_by_name()[\"C3\"]\n",
    "# DYE_TUBE = plate.wells_by_name()[\"A3\"]"
   ]
  },
  {
   "cell_type": "markdown",
   "metadata": {},
   "source": [
    "The below cell calculates minimal volume in well position"
   ]
  },
  {
   "cell_type": "code",
   "execution_count": 4,
   "metadata": {},
   "outputs": [
    {
     "name": "stdout",
     "output_type": "stream",
     "text": [
      "Reaction tube = 74 ul\n"
     ]
    }
   ],
   "source": [
    "safe_vol = 30    # dead volume on the bottom hard to pipette + room for evaporation\n",
    "rxn_vol = SAMPLE_VOL * (SAMPLE_STEPS + 1) + safe_vol\n",
    "# dye_vol = SAMPLE_VOL / 3 * (SAMPLE_STEPS + 1) + safe_vol\n",
    "\n",
    "# dye_vol = int(np.floor(dye_vol))\n",
    "\n",
    "print(f\"Reaction tube = {rxn_vol} ul\")\n",
    "# print(f\"Dye tube at A3, {dye_vol} ul\")"
   ]
  },
  {
   "cell_type": "markdown",
   "metadata": {},
   "source": [
    "To make the reaction mixture, mix 1.5 uM of KaiA, 3.5 uM of KaiB, and 3.5 uM of KaiC in Kai Storage Buffer (refer to Rust Lab Dropbox for recipe. It is a Tris-HCl-based buffer at pH 8 with Mg++) with 1 mM of ATP\n",
    "\n",
    "Load well A7 to F9 (22 wells in total) with 3 ul of SDS samping buffer and 7ul of water (12 ul in total. The volume will be smaller by the end of the run due to evaporation)\n",
    "\n",
    "Wipe down the rubber seal with ethanol before the run!"
   ]
  },
  {
   "cell_type": "markdown",
   "metadata": {},
   "source": [
    "<div class=\"alert alert-warning\">\n",
    "    <h2>STOP!</h2>\n",
    "    <br />\n",
    "    Before you proceed, please check:<br />\n",
    "    Have you placed the required labware?<br />\n",
    "    Have you put the right volume of liquid in required position?<br />\n",
    "    Remember to add the dye before the robot run!!\n",
    "</div>"
   ]
  },
  {
   "cell_type": "markdown",
   "metadata": {},
   "source": [
    "## Instructions"
   ]
  },
  {
   "cell_type": "code",
   "execution_count": 5,
   "metadata": {
    "scrolled": false
   },
   "outputs": [],
   "source": [
    "def sample(idx, v_s):\n",
    "    \"Sampling the in vitro clock and seal with oil\"\n",
    "    \n",
    "    tc_mod.open_lid()\n",
    "\n",
    "    # current well\n",
    "    cur_well = plate.wells()[idx + SAMPLE_OFFSET]\n",
    "\n",
    "    # Add the dye before the robot run!!\n",
    "#     # pipette the dye\n",
    "#     # defaults: delay = 5, touch tip = true, blowout = true\n",
    "#     transfer_viscous(pipette, protocol, calibrated_viscous(v_s / 3), DYE_TUBE, cur_well, \n",
    "#                      disp_height=0)\n",
    "\n",
    "    # pipette the sample   \n",
    "    transfer_viscous(pipette, protocol, calibrated_viscous(v_s - RM_OFFSET), RXN_TUBE, cur_well, \n",
    "                     asp_height=1.5, \n",
    "                     disp_height=0.5,\n",
    "                     delay=0, \n",
    "                     if_touch_tip=False, \n",
    "                     if_mix=True, \n",
    "                     if_blowout=True)\n",
    "    \n",
    "    tc_mod.close_lid()"
   ]
  },
  {
   "cell_type": "markdown",
   "metadata": {},
   "source": [
    "## Running"
   ]
  },
  {
   "cell_type": "code",
   "execution_count": 6,
   "metadata": {},
   "outputs": [],
   "source": [
    "tc_mod.close_lid()\n",
    "tc_mod.set_lid_temperature(temperature=37)\n",
    "tc_mod.set_block_temperature(temperature=26.7)"
   ]
  },
  {
   "cell_type": "code",
   "execution_count": 7,
   "metadata": {},
   "outputs": [
    {
     "name": "stdout",
     "output_type": "stream",
     "text": [
      "The protocol requires a total of 22 tip(s)\n",
      "\n",
      "At 0.00 hours, Sample and mix with loading buffer, with params (0, 2)\n",
      "At 3.50 hours, Sample and mix with loading buffer, with params (1, 2)\n",
      "At 7.00 hours, Sample and mix with loading buffer, with params (2, 2)\n",
      "At 10.50 hours, Sample and mix with loading buffer, with params (3, 2)\n",
      "At 14.00 hours, Sample and mix with loading buffer, with params (4, 2)\n",
      "At 17.50 hours, Sample and mix with loading buffer, with params (5, 2)\n",
      "At 21.00 hours, Sample and mix with loading buffer, with params (6, 2)\n",
      "At 24.50 hours, Sample and mix with loading buffer, with params (7, 2)\n",
      "At 28.00 hours, Sample and mix with loading buffer, with params (8, 2)\n",
      "At 31.50 hours, Sample and mix with loading buffer, with params (9, 2)\n",
      "At 35.00 hours, Sample and mix with loading buffer, with params (10, 2)\n",
      "At 38.50 hours, Sample and mix with loading buffer, with params (11, 2)\n",
      "At 42.00 hours, Sample and mix with loading buffer, with params (12, 2)\n",
      "At 45.50 hours, Sample and mix with loading buffer, with params (13, 2)\n",
      "At 49.00 hours, Sample and mix with loading buffer, with params (14, 2)\n",
      "At 52.50 hours, Sample and mix with loading buffer, with params (15, 2)\n",
      "At 56.00 hours, Sample and mix with loading buffer, with params (16, 2)\n",
      "At 59.50 hours, Sample and mix with loading buffer, with params (17, 2)\n",
      "At 63.00 hours, Sample and mix with loading buffer, with params (18, 2)\n",
      "At 66.50 hours, Sample and mix with loading buffer, with params (19, 2)\n",
      "At 70.00 hours, Sample and mix with loading buffer, with params (20, 2)\n",
      "At 73.50 hours, Sample and mix with loading buffer, with params (21, 2)\n"
     ]
    }
   ],
   "source": [
    "# make the lists of instructions\n",
    "\n",
    "scheduler.drop()\n",
    "\n",
    "# sampling\n",
    "time_vec = np.arange(SAMPLE_STEPS + 1) * SAMPLE_INT\n",
    "func_vec = [sample] * (SAMPLE_STEPS + 1)\n",
    "param_vec = [ (i, SAMPLE_VOL) for i in range(SAMPLE_STEPS + 1) ]\n",
    "str_vec = [\"Sample and mix with loading buffer\"] * (SAMPLE_STEPS + 1)\n",
    "n_tip_vec = [1] * (SAMPLE_STEPS + 1)\n",
    "# register\n",
    "scheduler.cat(time_vec, func_vec, param_vec, str_vec, n_tip_vec)\n",
    "\n",
    "# show\n",
    "scheduler.report(unit=\"hours\")"
   ]
  },
  {
   "cell_type": "code",
   "execution_count": null,
   "metadata": {},
   "outputs": [],
   "source": [
    "# running\n",
    "log_fn = \"log/20250228_ivo_no_growth_thermocycler_nonbinding_plate_27C_2ul_3_5h.log\"\n",
    "scheduler.run(protocol, log_fn)"
   ]
  },
  {
   "cell_type": "code",
   "execution_count": 9,
   "metadata": {},
   "outputs": [],
   "source": [
    "# finish up\n",
    "\n",
    "tc_mod.open_lid()\n",
    "tc_mod.deactivate_lid()\n",
    "tc_mod.deactivate_block()"
   ]
  },
  {
   "cell_type": "code",
   "execution_count": 10,
   "metadata": {},
   "outputs": [
    {
     "data": {
      "text/plain": [
       "'closed'"
      ]
     },
     "execution_count": 10,
     "metadata": {},
     "output_type": "execute_result"
    }
   ],
   "source": [
    "tc_mod.close_lid()"
   ]
  }
 ],
 "metadata": {
  "kernelspec": {
   "display_name": "Python 3 (ipykernel)",
   "language": "python",
   "name": "python3"
  },
  "language_info": {
   "codemirror_mode": {
    "name": "ipython",
    "version": 3
   },
   "file_extension": ".py",
   "mimetype": "text/x-python",
   "name": "python",
   "nbconvert_exporter": "python",
   "pygments_lexer": "ipython3",
   "version": "3.10.8"
  }
 },
 "nbformat": 4,
 "nbformat_minor": 2
}
