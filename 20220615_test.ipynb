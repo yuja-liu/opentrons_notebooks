{
 "cells": [
  {
   "cell_type": "code",
   "execution_count": 1,
   "metadata": {},
   "outputs": [],
   "source": [
    "# Import opentrons.execute\n",
    "import opentrons.execute\n",
    "# import protocol_api for autocompletion\n",
    "from opentrons import protocol_api\n",
    "\n",
    "# for loading custom labware\n",
    "# import json\n",
    "\n",
    "from src.pipette_viscous import *\n",
    "\n",
    "# This is where you establish the API version \n",
    "# re-run this will reset the state of the robot (removing all loaded labware)\n",
    "protocol = opentrons.execute.get_protocol_api('2.11')"
   ]
  },
  {
   "cell_type": "code",
   "execution_count": 2,
   "metadata": {
    "scrolled": true
   },
   "outputs": [],
   "source": [
    "protocol.home()"
   ]
  },
  {
   "cell_type": "code",
   "execution_count": 2,
   "metadata": {},
   "outputs": [],
   "source": [
    "def run(protocol: protocol_api.ProtocolContext):\n",
    "    \"switching lights\"\n",
    "    \n",
    "    # opentrons-robot-server have to be stopped to obtain control for the lights\n",
    "    # doing this will block the APP from connecting\n",
    "    if protocol.rail_lights_on:\n",
    "        protocol.set_rail_lights(False)\n",
    "    else:\n",
    "        protocol.set_rail_lights(True)"
   ]
  },
  {
   "cell_type": "code",
   "execution_count": 4,
   "metadata": {},
   "outputs": [],
   "source": [
    "# let's try it\n",
    "run(protocol)"
   ]
  },
  {
   "cell_type": "code",
   "execution_count": 5,
   "metadata": {},
   "outputs": [],
   "source": [
    "# define labware\n",
    "incubator = protocol.load_module(\"temperature module\", 11)\n",
    "rack = incubator.load_labware(\"opentrons_24_aluminumblock_fisher_1.5ml_centrifuge\")    # the rack is mounted upon the temp. module (don't specify slot)\n",
    "plate = protocol.load_labware(\"biorad_96_wellplate_200ul_pcr\", '3')\n",
    "\n",
    "# # define custom labware i.e. tipracks\n",
    "# with open(\"custom_labware/geb_taller_96_tiprack_10ul.json\") as labware_file:\n",
    "#     labware_def = json.load(labware_file)\n",
    "#     tip_rack = protocol.load_labware_from_definition(labware_def, '1')\n",
    "\n",
    "# now, custom labware is automatically included\n",
    "tip_rack = protocol.load_labware(\"geb_taller_96_tiprack_10ul\", '2')\n",
    "\n",
    "# pipettes\n",
    "pipette = protocol.load_instrument(\"p10_single\", \"left\", tip_racks = [tip_rack])   # here is a p10_multi on the right, but not used here"
   ]
  },
  {
   "cell_type": "code",
   "execution_count": 9,
   "metadata": {},
   "outputs": [
    {
     "data": {
      "text/plain": [
       "<InstrumentContext: p10_single_v1.5 in LEFT>"
      ]
     },
     "execution_count": 9,
     "metadata": {},
     "output_type": "execute_result"
    }
   ],
   "source": [
    "# do a simple transfer\n",
    "\n",
    "pipette.transfer(5, rack.wells_by_name()['A1'], plate.wells_by_name()['C1'])"
   ]
  },
  {
   "cell_type": "code",
   "execution_count": 12,
   "metadata": {},
   "outputs": [],
   "source": [
    "transfer_viscous(pipette, protocol, 5, rack.wells_by_name()[\"A1\"], plate.wells_by_name()['A1'])"
   ]
  },
  {
   "cell_type": "code",
   "execution_count": 4,
   "metadata": {},
   "outputs": [
    {
     "data": {
      "text/plain": [
       "<InstrumentContext: p10_single_v1.5 in LEFT>"
      ]
     },
     "execution_count": 4,
     "metadata": {},
     "output_type": "execute_result"
    }
   ],
   "source": [
    "pipette.pick_up_tip()\n",
    "pipette.move_to(rack.wells_by_name()[\"A1\"].bottom())"
   ]
  },
  {
   "cell_type": "code",
   "execution_count": 6,
   "metadata": {},
   "outputs": [
    {
     "data": {
      "text/plain": [
       "<InstrumentContext: p10_single_v1.5 in LEFT>"
      ]
     },
     "execution_count": 6,
     "metadata": {},
     "output_type": "execute_result"
    }
   ],
   "source": [
    "pipette.move_to(rack.wells_by_name()['A1'].top(), speed=50)"
   ]
  },
  {
   "cell_type": "code",
   "execution_count": 27,
   "metadata": {},
   "outputs": [
    {
     "data": {
      "text/plain": [
       "<InstrumentContext: p10_single_v1.5 in LEFT>"
      ]
     },
     "execution_count": 27,
     "metadata": {},
     "output_type": "execute_result"
    }
   ],
   "source": [
    "pipette.pick_up_tip()\n",
    "pipette.aspirate(5, rack.wells_by_name()['A1'].bottom(0.0), rate=0.5)\n",
    "pipette.dispense(5, plate.wells_by_name()['B5'])\n",
    "pipette.drop_tip()"
   ]
  },
  {
   "cell_type": "code",
   "execution_count": 10,
   "metadata": {},
   "outputs": [],
   "source": [
    "# transfer_viscous(pipette, protocol, 5, rack.wells_by_name()['A1'], plate.wells_by_name()['D2'])\n",
    "aspirate_viscous(pipette, protocol, 9, rack.wells_by_name()['A1'], asp_height=1)\n",
    "dispense_viscous(pipette, protocol, 9, plate.wells_by_name()['E1'])"
   ]
  }
 ],
 "metadata": {
  "kernelspec": {
   "display_name": "Python 3 (ipykernel)",
   "language": "python",
   "name": "python3"
  },
  "language_info": {
   "codemirror_mode": {
    "name": "ipython",
    "version": 3
   },
   "file_extension": ".py",
   "mimetype": "text/x-python",
   "name": "python",
   "nbconvert_exporter": "python",
   "pygments_lexer": "ipython3",
   "version": "3.10.8"
  }
 },
 "nbformat": 4,
 "nbformat_minor": 2
}
