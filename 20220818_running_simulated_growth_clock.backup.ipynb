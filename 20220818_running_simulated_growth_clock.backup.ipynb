{
 "cells": [
  {
   "cell_type": "markdown",
   "metadata": {},
   "source": [
    "# Simulated growth in a test tube\n",
    "\n",
    "Change log\n",
    "\n",
    "2023/7/5: remove blowout step when dispensing the growth volume -- tend to create a bubble at the bottom of the reaction tube which leads to inaccurate sampling"
   ]
  },
  {
   "cell_type": "markdown",
   "metadata": {},
   "source": [
    "# Calculations"
   ]
  },
  {
   "cell_type": "code",
   "execution_count": 1,
   "metadata": {},
   "outputs": [],
   "source": [
    "# libraries\n",
    "import numpy as np\n",
    "from src.evap_standard_curve import *"
   ]
  },
  {
   "cell_type": "markdown",
   "metadata": {},
   "source": [
    "<div class=\"alert alert-success\">\n",
    "    Modify your parameters here\n",
    "</div>"
   ]
  },
  {
   "cell_type": "code",
   "execution_count": 2,
   "metadata": {},
   "outputs": [],
   "source": [
    "# parameters\n",
    "\n",
    "# ! neither v_s or v_d should > 10 ul since we have a p10 pipette\n",
    "tau = 6    # hours. doubling time\n",
    "v_s = 9    # ul. volume per sample\n",
    "t_s = 4    # hours. time interval between samples\n",
    "        # rehydration frequency is the same as sampling frequency\n",
    "v_d = 9    # dump volume. the frequency of dumping is the same as sampling.\n",
    "        # this is useful to avoid very small initial volume/growth volume\n",
    "    \n",
    "SAMPLE_OFFSET = 0    # use if not starting from A1\n",
    "T_TOT = 72\n",
    "\n",
    "# constants\n",
    "\n",
    "V_MIN = 2    # ul. minimal volume the pipette can handle in one operation\n",
    "T_MIN = 0.5    # hours. minimal time interval between contiguous steps in a sequence, e.g., two  rehydration steps\n",
    "RM_OFFSET = 0.4    # ul. essentially the amount of residual liquid on the tip. Subtract this amount from\n",
    "                    # the \"removing\" steps"
   ]
  },
  {
   "cell_type": "markdown",
   "metadata": {},
   "source": [
    "Find the balancing volume"
   ]
  },
  {
   "cell_type": "code",
   "execution_count": 3,
   "metadata": {},
   "outputs": [
    {
     "name": "stdout",
     "output_type": "stream",
     "text": [
      "Initial volume should be 39.0 ul\n"
     ]
    }
   ],
   "source": [
    "# v_removed = v_b * ln(2) * t_s / tau\n",
    "# where v_b is the balancing volume\n",
    "\n",
    "v_removed = v_s + v_d    # in time step t_s, how much volume is removed\n",
    "v_b = v_removed * tau / (np.log(2) * t_s)\n",
    "v_b = np.round(v_b, decimals=1)    # restricted by precision of the pipette\n",
    "\n",
    "print(\"Initial volume should be\", v_b, \"ul\")"
   ]
  },
  {
   "cell_type": "markdown",
   "metadata": {},
   "source": [
    "Find the growth volume (`v_grow`) and the number of growth steps per sampling step (`n_pip`)"
   ]
  },
  {
   "cell_type": "code",
   "execution_count": 4,
   "metadata": {},
   "outputs": [
    {
     "name": "stdout",
     "output_type": "stream",
     "text": [
      "Given that 18 ul is removed per 4 hours , the total volume should 'grow' by 9.0 ul for 2 times (interval = 2.0 hours) in the same period.\n"
     ]
    }
   ],
   "source": [
    "# find the \"growth\" interval\n",
    "# notice that the strategy is only a function of sampling vol and interval, and discard vol, but not tau\n",
    "# (tau determines initial vol)\n",
    "\n",
    "v_removed = v_s + v_d    # which is also the total growth vol\n",
    "\n",
    "max_n_pip = int(np.floor(t_s / T_MIN))    # max number of pipetting steps, restricted by T_MIN\n",
    "\n",
    "v_grow = -1    # flag for no strategy\n",
    "# starting from the max # pipettes\n",
    "for n_pip in range(max_n_pip + 1, 1, -1):\n",
    "    \n",
    "    # i must be a factor of max__pip\n",
    "    if max_n_pip % n_pip != 0:\n",
    "        continue\n",
    "        \n",
    "    v_cur = np.round(v_removed / n_pip, decimals=1)\n",
    "    #print(\"Trying 'growth' volume\", v_cur, \"ul, pipetting\", n_pip, \"times per sampling...\")\n",
    "    \n",
    "    if v_cur >= 3 * V_MIN and v_cur <= 10:\n",
    "        # the smallest v_grow satisfies min. pipetting precision is what we want\n",
    "        # v_grow consists of 3 pipetting steps, thus x3\n",
    "        v_grow = v_cur\n",
    "        break\n",
    "\n",
    "if v_grow == -1:\n",
    "    print(\"No 'growth' volume found!\")\n",
    "else:\n",
    "    print(\"Given that\", v_removed, \"ul is removed per\", t_s, \"hours\",\n",
    "          \", the total volume should 'grow' by\", v_grow, \"ul for\", n_pip, \"times (interval =\",\n",
    "          t_s/n_pip, \"hours) in the same period.\")"
   ]
  },
  {
   "cell_type": "markdown",
   "metadata": {},
   "source": [
    "Find the rehydration volume, i.e., the amount of water to be added into the samples to counteract evaporation"
   ]
  },
  {
   "cell_type": "code",
   "execution_count": 5,
   "metadata": {},
   "outputs": [
    {
     "name": "stdout",
     "output_type": "stream",
     "text": [
      "Rehydration vol each time is 5.1\n"
     ]
    }
   ],
   "source": [
    "# find the rehydration vol\n",
    "\n",
    "if t_s == 2:\n",
    "    v_hydrate = evap_vol_2h(v_s / 3 * 4)\n",
    "elif t_s == 4:\n",
    "    v_hydrate = evap_vol_4h(v_s / 3 * 4)\n",
    "else:\n",
    "    raise Exception(\"Rehydration interval can be only either 2 or 4 hours\")\n",
    "\n",
    "print(\"Rehydration vol each time is\", v_hydrate)"
   ]
  },
  {
   "cell_type": "markdown",
   "metadata": {},
   "source": [
    "# Initialization"
   ]
  },
  {
   "cell_type": "code",
   "execution_count": 6,
   "metadata": {},
   "outputs": [],
   "source": [
    "# current working dir is /var/lib/jupyter/notebooks\n",
    "import numpy as np\n",
    "import opentrons.execute\n",
    "from opentrons import protocol_api\n",
    "from src.pipette_viscous import transfer_viscous,aspirate_viscous, dispense_viscous, calibrated_viscous\n",
    "import src.scheduler as scheduler\n",
    "from src.evap_standard_curve import *\n",
    "\n",
    "# start the protocol context\n",
    "protocol = opentrons.execute.get_protocol_api(\"2.11\")\n",
    "\n",
    "# home is required\n",
    "protocol.set_rail_lights(False)\n",
    "protocol.home()"
   ]
  },
  {
   "cell_type": "markdown",
   "metadata": {},
   "source": [
    "## Load labware\n",
    "\n",
    "- The incubator is on slot 11\n",
    "- The alluminum rack is mounted to the incubator (with Eppendorf LoBind tubes)\n",
    "- The GEB tiprack is on slot 2, 5, 6, 8, 9\n",
    "- The Bio-rad PCR plate is on slot 3\n",
    "- The P10 1st gen pipette is on the left"
   ]
  },
  {
   "cell_type": "code",
   "execution_count": 7,
   "metadata": {},
   "outputs": [],
   "source": [
    "incubator = protocol.load_module(\"temperature module\", 11)\n",
    "\n",
    "rack = incubator.load_labware(\"eppendorf_24_aluminumblock_1500ul\")    # the rack is mounted upon the temp. module (don't specify slot)\n",
    "\n",
    "tip_rack_1 = protocol.load_labware(\"geb_taller_96_tiprack_10ul\", '6')    # will consume 380 tips in total, about 4 boxes\n",
    "tip_rack_2 = protocol.load_labware(\"geb_taller_96_tiprack_10ul\", '7')\n",
    "tip_rack_3 = protocol.load_labware(\"geb_taller_96_tiprack_10ul\", '8')\n",
    "tip_rack_4 = protocol.load_labware(\"geb_taller_96_tiprack_10ul\", '9')    # custom labware. see definition at labware/\n",
    "\n",
    "plate = protocol.load_labware(\"biorad_96_wellplate_200ul_pcr\", '5')\n",
    "\n",
    "pipette = protocol.load_instrument(\"p10_single\", \"left\", \n",
    "                                   tip_racks = [tip_rack_1, tip_rack_2, tip_rack_3, tip_rack_4])"
   ]
  },
  {
   "cell_type": "markdown",
   "metadata": {},
   "source": [
    "# Define liquid/tubes"
   ]
  },
  {
   "cell_type": "code",
   "execution_count": 8,
   "metadata": {},
   "outputs": [],
   "source": [
    "RXN_TUBE = rack.wells_by_name()[\"A1\"]\n",
    "DYE_TUBE = rack.wells_by_name()[\"A3\"]\n",
    "WAT_TUBE = rack.wells_by_name()[\"A5\"]\n",
    "DIS_TUBE = rack.wells_by_name()[\"C1\"]    # discard\n",
    "A_TUBE = rack.wells_by_name()[\"C3\"]    # 3x KaiA\n",
    "B_TUBE = rack.wells_by_name()[\"C4\"]    # 3x KaiB\n",
    "U_TUBE = rack.wells_by_name()[\"C5\"]    # 3x unphosphorylated KaiC"
   ]
  },
  {
   "cell_type": "markdown",
   "metadata": {},
   "source": [
    "# Define operations"
   ]
  },
  {
   "cell_type": "code",
   "execution_count": 9,
   "metadata": {},
   "outputs": [
    {
     "data": {
      "text/plain": [
       "9.45"
      ]
     },
     "execution_count": 9,
     "metadata": {},
     "output_type": "execute_result"
    }
   ],
   "source": [
    "calibrated_viscous(v_s - RM_OFFSET)"
   ]
  },
  {
   "cell_type": "code",
   "execution_count": 10,
   "metadata": {},
   "outputs": [],
   "source": [
    "def sample_and_discard(idx):\n",
    "    \"take a sample from the tube to a 96-well plate\"\n",
    "\n",
    "    # current well\n",
    "    cur_well = plate.wells()[idx + SAMPLE_OFFSET]\n",
    "\n",
    "    # pipette the dye\n",
    "    transfer_viscous(pipette, protocol, calibrated_viscous(v_s / 3), DYE_TUBE, cur_well)\n",
    "\n",
    "    # pipette the sample\n",
    "    aspirate_viscous(pipette, protocol, calibrated_viscous(v_s - RM_OFFSET), RXN_TUBE, asp_height=2)\n",
    "    dispense_viscous(pipette, protocol, calibrated_viscous(v_s - RM_OFFSET), cur_well, if_mix=True)\n",
    "    \n",
    "    # discard from reaction\n",
    "    # no need to discard at time 0\n",
    "    if idx > 0:\n",
    "        aspirate_viscous(pipette, protocol, calibrated_viscous(v_d - RM_OFFSET), RXN_TUBE, asp_height = 2)\n",
    "        pipette.dispense(calibrated_viscous(v_d - RM_OFFSET), DIS_TUBE)\n",
    "        pipette.drop_tip()\n",
    "\n",
    "# for logging\n",
    "str_sample_and_discard = \"Sample and mix with loading buffer, and discard from the reaction\"\n",
    "\n",
    "def rehydrate(idx):\n",
    "    \"to prevent drying down\"\n",
    "\n",
    "    # determine rehydration vol\n",
    "    if t_s == 2:\n",
    "        v_hydrate = evap_vol_2h(v_s / 3 * 4)\n",
    "    elif t_s == 4:\n",
    "        v_hydrate = evap_vol_4h(v_s / 3 * 4)\n",
    "    else:\n",
    "        raise Exception(\"Rehydration interval can be only either 2 or 4 hours\")\n",
    "    \n",
    "    for i in range(idx):\n",
    "        cur_well = plate.wells()[i + SAMPLE_OFFSET]\n",
    "        \n",
    "        pipette.pick_up_tip()\n",
    "        pipette.aspirate(calibrated_viscous(v_hydrate), WAT_TUBE)    # just water, no oil\n",
    "        dispense_viscous(pipette, protocol, calibrated_viscous(v_hydrate), cur_well, if_mix=True)\n",
    "        \n",
    "str_rehydrate = \"Rehydrate to prevent drying down\"\n",
    "        \n",
    "def grow(v_g):\n",
    "    \"dilute the reaction with U-KaiC, KaiA, and KaiB by volume v_g\"\n",
    "    \n",
    "    v_g_per_tube = np.round(v_g / 3, 1)\n",
    "    \n",
    "    for from_tube in [U_TUBE, A_TUBE, B_TUBE]:\n",
    "        # it's also okay to mix KaiA and KaiB in one tube, then all conc are 2x\n",
    "        # do not dispense at the bottom. Defaults are 1mm from the bottom\n",
    "        aspirate_viscous(pipette, protocol, calibrated_viscous(v_g_per_tube), from_tube, asp_height=2)\n",
    "        dispense_viscous(pipette, protocol, calibrated_viscous(v_g_per_tube), RXN_TUBE, \n",
    "                         if_mix=True, mix_rate=0.2, if_blowout=False, disp_height=5)\n",
    "        # there's a blow out\n",
    "        # here is a decision: now I do a blow out. A blow out can push more liquid out of the tip but\n",
    "        # introduces a bubble. Probably worth it?\n",
    "    \n",
    "str_grow = \"Simulate growth\""
   ]
  },
  {
   "cell_type": "markdown",
   "metadata": {},
   "source": [
    "# Define instructions"
   ]
  },
  {
   "cell_type": "markdown",
   "metadata": {},
   "source": [
    "## This is a test for each operation"
   ]
  },
  {
   "cell_type": "code",
   "execution_count": 7,
   "metadata": {
    "scrolled": true
   },
   "outputs": [
    {
     "name": "stdout",
     "output_type": "stream",
     "text": [
      "A total of 9 tips is required\n",
      "\n",
      "At 0.00 hours, Sample and mix with loading buffer, and discard from the reaction, with params (0,)\n",
      "At 0.00 hours, Sample and mix with loading buffer, and discard from the reaction, with params (1,)\n",
      "At 0.00 hours, Rehydrate to prevent drying down, with params (2,)\n",
      "At 0.00 hours, Simulate growth, with params (4.5,)\n"
     ]
    }
   ],
   "source": [
    "# scheduler.drop()\n",
    "# scheduler.cat(time_vec=[0, 0, 0, 0],\n",
    "#              func_vec=[sample_and_discard, sample_and_discard, rehydrate, grow],\n",
    "#              param_vec=[(0,), (1,), (2,), (4.5,)],\n",
    "#              str_vec=[str_sample_and_discard, str_sample_and_discard, str_rehydrate, str_grow],\n",
    "#              n_tip_vec=[3, 3, 2, 3])\n",
    "# scheduler.report(unit=\"hours\")"
   ]
  },
  {
   "cell_type": "markdown",
   "metadata": {},
   "source": [
    "## The real instructions"
   ]
  },
  {
   "cell_type": "code",
   "execution_count": 11,
   "metadata": {},
   "outputs": [],
   "source": [
    "incubator.set_temperature(30)"
   ]
  },
  {
   "cell_type": "code",
   "execution_count": 12,
   "metadata": {
    "scrolled": false
   },
   "outputs": [
    {
     "name": "stdout",
     "output_type": "stream",
     "text": [
      "A total of 335 tips is required\n",
      "\n",
      "At 2.00 hours, Simulate growth, with params (9.0,)\n",
      "At 4.00 hours, Simulate growth, with params (9.0,)\n",
      "At 6.00 hours, Simulate growth, with params (9.0,)\n",
      "At 8.00 hours, Simulate growth, with params (9.0,)\n",
      "At 10.00 hours, Simulate growth, with params (9.0,)\n",
      "At 12.00 hours, Simulate growth, with params (9.0,)\n",
      "At 14.00 hours, Simulate growth, with params (9.0,)\n",
      "At 16.00 hours, Simulate growth, with params (9.0,)\n",
      "At 18.00 hours, Simulate growth, with params (9.0,)\n",
      "At 20.00 hours, Simulate growth, with params (9.0,)\n",
      "At 22.00 hours, Simulate growth, with params (9.0,)\n",
      "At 24.00 hours, Simulate growth, with params (9.0,)\n",
      "At 26.00 hours, Simulate growth, with params (9.0,)\n",
      "At 28.00 hours, Simulate growth, with params (9.0,)\n",
      "At 30.00 hours, Simulate growth, with params (9.0,)\n",
      "At 32.00 hours, Simulate growth, with params (9.0,)\n",
      "At 34.00 hours, Simulate growth, with params (9.0,)\n",
      "At 36.00 hours, Simulate growth, with params (9.0,)\n",
      "At 38.00 hours, Simulate growth, with params (9.0,)\n",
      "At 40.00 hours, Simulate growth, with params (9.0,)\n",
      "At 42.00 hours, Simulate growth, with params (9.0,)\n",
      "At 44.00 hours, Simulate growth, with params (9.0,)\n",
      "At 46.00 hours, Simulate growth, with params (9.0,)\n",
      "At 48.00 hours, Simulate growth, with params (9.0,)\n",
      "At 50.00 hours, Simulate growth, with params (9.0,)\n",
      "At 52.00 hours, Simulate growth, with params (9.0,)\n",
      "At 54.00 hours, Simulate growth, with params (9.0,)\n",
      "At 56.00 hours, Simulate growth, with params (9.0,)\n",
      "At 58.00 hours, Simulate growth, with params (9.0,)\n",
      "At 60.00 hours, Simulate growth, with params (9.0,)\n",
      "At 62.00 hours, Simulate growth, with params (9.0,)\n",
      "At 64.00 hours, Simulate growth, with params (9.0,)\n",
      "At 66.00 hours, Simulate growth, with params (9.0,)\n",
      "At 68.00 hours, Simulate growth, with params (9.0,)\n",
      "At 70.00 hours, Simulate growth, with params (9.0,)\n",
      "At 72.00 hours, Simulate growth, with params (9.0,)\n",
      "At 0.00 hours, Sample and mix with loading buffer, and discard from the reaction, with params (0,)\n",
      "At 4.00 hours, Sample and mix with loading buffer, and discard from the reaction, with params (1,)\n",
      "At 8.00 hours, Sample and mix with loading buffer, and discard from the reaction, with params (2,)\n",
      "At 12.00 hours, Sample and mix with loading buffer, and discard from the reaction, with params (3,)\n",
      "At 16.00 hours, Sample and mix with loading buffer, and discard from the reaction, with params (4,)\n",
      "At 20.00 hours, Sample and mix with loading buffer, and discard from the reaction, with params (5,)\n",
      "At 24.00 hours, Sample and mix with loading buffer, and discard from the reaction, with params (6,)\n",
      "At 28.00 hours, Sample and mix with loading buffer, and discard from the reaction, with params (7,)\n",
      "At 32.00 hours, Sample and mix with loading buffer, and discard from the reaction, with params (8,)\n",
      "At 36.00 hours, Sample and mix with loading buffer, and discard from the reaction, with params (9,)\n",
      "At 40.00 hours, Sample and mix with loading buffer, and discard from the reaction, with params (10,)\n",
      "At 44.00 hours, Sample and mix with loading buffer, and discard from the reaction, with params (11,)\n",
      "At 48.00 hours, Sample and mix with loading buffer, and discard from the reaction, with params (12,)\n",
      "At 52.00 hours, Sample and mix with loading buffer, and discard from the reaction, with params (13,)\n",
      "At 56.00 hours, Sample and mix with loading buffer, and discard from the reaction, with params (14,)\n",
      "At 60.00 hours, Sample and mix with loading buffer, and discard from the reaction, with params (15,)\n",
      "At 64.00 hours, Sample and mix with loading buffer, and discard from the reaction, with params (16,)\n",
      "At 68.00 hours, Sample and mix with loading buffer, and discard from the reaction, with params (17,)\n",
      "At 72.00 hours, Sample and mix with loading buffer, and discard from the reaction, with params (18,)\n",
      "At 4.00 hours, Rehydrate to prevent drying down, with params (1,)\n",
      "At 8.00 hours, Rehydrate to prevent drying down, with params (2,)\n",
      "At 12.00 hours, Rehydrate to prevent drying down, with params (3,)\n",
      "At 16.00 hours, Rehydrate to prevent drying down, with params (4,)\n",
      "At 20.00 hours, Rehydrate to prevent drying down, with params (5,)\n",
      "At 24.00 hours, Rehydrate to prevent drying down, with params (6,)\n",
      "At 28.00 hours, Rehydrate to prevent drying down, with params (7,)\n",
      "At 32.00 hours, Rehydrate to prevent drying down, with params (8,)\n",
      "At 36.00 hours, Rehydrate to prevent drying down, with params (9,)\n",
      "At 40.00 hours, Rehydrate to prevent drying down, with params (10,)\n",
      "At 44.00 hours, Rehydrate to prevent drying down, with params (11,)\n",
      "At 48.00 hours, Rehydrate to prevent drying down, with params (12,)\n",
      "At 52.00 hours, Rehydrate to prevent drying down, with params (13,)\n",
      "At 56.00 hours, Rehydrate to prevent drying down, with params (14,)\n",
      "At 60.00 hours, Rehydrate to prevent drying down, with params (15,)\n",
      "At 64.00 hours, Rehydrate to prevent drying down, with params (16,)\n",
      "At 68.00 hours, Rehydrate to prevent drying down, with params (17,)\n",
      "At 72.00 hours, Rehydrate to prevent drying down, with params (18,)\n"
     ]
    }
   ],
   "source": [
    "scheduler.drop()\n",
    "\n",
    "# t_s, v_s, and v_d are previously defined\n",
    "# v_grow is calculated in one of the above cells\n",
    "\n",
    "# growth (before sampling!)\n",
    "t_grow = t_s / n_pip\n",
    "n_steps_grow = int(T_TOT / t_grow)\n",
    "\n",
    "scheduler.cat(time_vec=np.arange(1, n_steps_grow + 1) * t_grow * 60,\n",
    "             func_vec=[grow] * n_steps_grow,\n",
    "             param_vec=[(v_grow,)] * n_steps_grow,    # dilution volumes are all the same\n",
    "             str_vec=[str_grow] * n_steps_grow,\n",
    "             n_tip_vec=[3] * n_steps_grow)\n",
    "\n",
    "# sampling\n",
    "n_steps_sample = int(T_TOT / t_s) + 1    # plus time 0\n",
    "\n",
    "scheduler.cat(time_vec=np.arange(n_steps_sample) * t_s * 60,\n",
    "             func_vec=[sample_and_discard] * n_steps_sample,\n",
    "             param_vec=[ (i,) for i in range(n_steps_sample) ],\n",
    "             str_vec=[str_sample_and_discard] * n_steps_sample,\n",
    "             n_tip_vec=[2] + [3] * (n_steps_sample - 1))\n",
    "\n",
    "# rehydration\n",
    "scheduler.cat(time_vec=np.arange(1, n_steps_sample) * t_s * 60,\n",
    "             func_vec=[rehydrate] * (n_steps_sample - 1),\n",
    "             param_vec=[ (i,) for i in range(1, n_steps_sample) ],\n",
    "             str_vec=[str_rehydrate] * (n_steps_sample - 1),\n",
    "             n_tip_vec=[ i for i in range(1, n_steps_sample) ])\n",
    "\n",
    "scheduler.report(unit=\"hours\")"
   ]
  },
  {
   "cell_type": "markdown",
   "metadata": {},
   "source": [
    "<div class=\"alert alert-success\">\n",
    "    Prepare the following solution\n",
    "</div>"
   ]
  },
  {
   "cell_type": "code",
   "execution_count": 13,
   "metadata": {},
   "outputs": [
    {
     "name": "stdout",
     "output_type": "stream",
     "text": [
      "Reaction tube at A1, 48.0 ul\n",
      "Dye tube at A3, 87.0 ul\n",
      "Water tube at A5, 902.1 ul\n",
      "Stock protein tube at C3, C4, and C5, 138.0 ul\n"
     ]
    }
   ],
   "source": [
    "V_SAFE = 30\n",
    "\n",
    "v_rxn = v_b + v_s    # time 0 sample\n",
    "v_dye = v_s / 3 * n_steps_sample + V_SAFE\n",
    "v_wat = v_hydrate * sum(range(1, n_steps_sample)) + V_SAFE\n",
    "# actually water tube is 1 ml, without oil, and refilled every day\n",
    "# water costs nothing...\n",
    "v_stock = v_grow / 3 * n_steps_grow + V_SAFE\n",
    "\n",
    "print(f\"Reaction tube at A1, {v_rxn:.1f} ul\")\n",
    "print(f\"Dye tube at A3, {v_dye:.1f} ul\")\n",
    "print(f\"Water tube at A5, {v_wat:.1f} ul\")\n",
    "print(f\"Stock protein tube at C3, C4, and C5, {v_stock:.1f} ul\")"
   ]
  },
  {
   "cell_type": "markdown",
   "metadata": {},
   "source": [
    "Add 60 ul of oil on top of the reaction tube, the dye tube, and each stock protein tube. Leave the water tube open"
   ]
  },
  {
   "cell_type": "markdown",
   "metadata": {},
   "source": [
    "<div class=\"alert alert-warning\">\n",
    "    <h2>STOP!</h2>\n",
    "    Before you proceed, please check:<br />\n",
    "    Have you placed the required labware?<br />\n",
    "    Have you put the right volume of liquid in required position?\n",
    "</div>"
   ]
  },
  {
   "cell_type": "code",
   "execution_count": 14,
   "metadata": {},
   "outputs": [],
   "source": [
    "log_fn = \"log/20230802_12h_simulated_growth_SD_C.log\"\n",
    "scheduler.run(protocol, log_fn)"
   ]
  },
  {
   "cell_type": "markdown",
   "metadata": {},
   "source": [
    "## A quicker test"
   ]
  },
  {
   "cell_type": "code",
   "execution_count": 8,
   "metadata": {},
   "outputs": [],
   "source": [
    "v_s = 9\n",
    "v_d = 9\n",
    "\n",
    "# constants\n",
    "SAMPLE_OFFSET = 0    # use if not starting from A1\n",
    "T_TOT = 72\n",
    "\n",
    "V_MIN = 2    # ul. minimal volume the pipette can handle in one operation\n",
    "T_MIN = 0.5    # hours. minimal time interval between contiguous steps in a sequence, e.g., two  rehydration steps\n",
    "RM_OFFSET = 0.4    # ul. essentially the amount of residual liquid on the tip. Subtract this amount from\n",
    "                    # the \"removing\" steps\n",
    "\n",
    "def sample_test(idx):\n",
    "    \"take a sample from the tube to a 96-well plate\"\n",
    "\n",
    "    # current well\n",
    "    cur_well = plate.wells()[idx + SAMPLE_OFFSET]\n",
    "\n",
    "    # pipette the dye\n",
    "    transfer_viscous(pipette, protocol, calibrated_viscous(v_s / 3), DYE_TUBE, cur_well)\n",
    "\n",
    "    # pipette the sample\n",
    "    aspirate_viscous(pipette, protocol, calibrated_viscous(v_s - RM_OFFSET), RXN_TUBE, asp_height=2)\n",
    "    dispense_viscous(pipette, protocol, calibrated_viscous(v_s - RM_OFFSET), cur_well, if_mix=True)\n",
    "    \n",
    "    # discard from reaction\n",
    "    # no need to discard at time 0\n",
    "    if idx > 0:\n",
    "        aspirate_viscous(pipette, protocol, calibrated_viscous(v_d - RM_OFFSET), RXN_TUBE, asp_height=2)\n",
    "        pipette.dispense(calibrated_viscous(v_d - RM_OFFSET), DIS_TUBE)\n",
    "        pipette.drop_tip()\n",
    "\n",
    "# for logging\n",
    "str_sample_and_discard = \"Sample and discard from the reaction\"\n",
    "\n",
    "\n",
    "def grow_test(v_g):\n",
    "    \"dilute the reaction with U-KaiC, KaiA, and KaiB by volume v_g\"\n",
    "    \n",
    "    v_g_per_tube = np.round(v_g / 3, 1)\n",
    "    \n",
    "    for from_tube in [U_TUBE, A_TUBE, B_TUBE]:\n",
    "        # it's also okay to mix KaiA and KaiB in one tube, then all conc are 2x\n",
    "        # do not dispense at the bottom. Defaults are 1mm from the bottom\n",
    "        aspirate_viscous(pipette, protocol, calibrated_viscous(v_g_per_tube), from_tube, asp_height=2)\n",
    "        dispense_viscous(pipette, protocol, calibrated_viscous(v_g_per_tube), RXN_TUBE, \n",
    "                         if_mix=True, mix_rate=0.2, if_blowout=False, disp_height=5)\n",
    "    \n",
    "str_grow = \"Simulate growth\""
   ]
  },
  {
   "cell_type": "code",
   "execution_count": 9,
   "metadata": {},
   "outputs": [
    {
     "name": "stdout",
     "output_type": "stream",
     "text": [
      "A total of 164 tips is required\n",
      "\n",
      "At 10 minutes, Simulate growth, with params (9,)\n",
      "At 20 minutes, Simulate growth, with params (9,)\n",
      "At 30 minutes, Simulate growth, with params (9,)\n",
      "At 40 minutes, Simulate growth, with params (9,)\n",
      "At 50 minutes, Simulate growth, with params (9,)\n",
      "At 60 minutes, Simulate growth, with params (9,)\n",
      "At 70 minutes, Simulate growth, with params (9,)\n",
      "At 80 minutes, Simulate growth, with params (9,)\n",
      "At 90 minutes, Simulate growth, with params (9,)\n",
      "At 100 minutes, Simulate growth, with params (9,)\n",
      "At 110 minutes, Simulate growth, with params (9,)\n",
      "At 120 minutes, Simulate growth, with params (9,)\n",
      "At 130 minutes, Simulate growth, with params (9,)\n",
      "At 140 minutes, Simulate growth, with params (9,)\n",
      "At 150 minutes, Simulate growth, with params (9,)\n",
      "At 160 minutes, Simulate growth, with params (9,)\n",
      "At 170 minutes, Simulate growth, with params (9,)\n",
      "At 180 minutes, Simulate growth, with params (9,)\n",
      "At 190 minutes, Simulate growth, with params (9,)\n",
      "At 200 minutes, Simulate growth, with params (9,)\n",
      "At 210 minutes, Simulate growth, with params (9,)\n",
      "At 220 minutes, Simulate growth, with params (9,)\n",
      "At 230 minutes, Simulate growth, with params (9,)\n",
      "At 240 minutes, Simulate growth, with params (9,)\n",
      "At 250 minutes, Simulate growth, with params (9,)\n",
      "At 260 minutes, Simulate growth, with params (9,)\n",
      "At 270 minutes, Simulate growth, with params (9,)\n",
      "At 280 minutes, Simulate growth, with params (9,)\n",
      "At 290 minutes, Simulate growth, with params (9,)\n",
      "At 300 minutes, Simulate growth, with params (9,)\n",
      "At 310 minutes, Simulate growth, with params (9,)\n",
      "At 320 minutes, Simulate growth, with params (9,)\n",
      "At 330 minutes, Simulate growth, with params (9,)\n",
      "At 340 minutes, Simulate growth, with params (9,)\n",
      "At 350 minutes, Simulate growth, with params (9,)\n",
      "At 360 minutes, Simulate growth, with params (9,)\n",
      "At 0 minutes, Sample and discard from the reaction, with params (0,)\n",
      "At 20 minutes, Sample and discard from the reaction, with params (1,)\n",
      "At 40 minutes, Sample and discard from the reaction, with params (2,)\n",
      "At 60 minutes, Sample and discard from the reaction, with params (3,)\n",
      "At 80 minutes, Sample and discard from the reaction, with params (4,)\n",
      "At 100 minutes, Sample and discard from the reaction, with params (5,)\n",
      "At 120 minutes, Sample and discard from the reaction, with params (6,)\n",
      "At 140 minutes, Sample and discard from the reaction, with params (7,)\n",
      "At 160 minutes, Sample and discard from the reaction, with params (8,)\n",
      "At 180 minutes, Sample and discard from the reaction, with params (9,)\n",
      "At 200 minutes, Sample and discard from the reaction, with params (10,)\n",
      "At 220 minutes, Sample and discard from the reaction, with params (11,)\n",
      "At 240 minutes, Sample and discard from the reaction, with params (12,)\n",
      "At 260 minutes, Sample and discard from the reaction, with params (13,)\n",
      "At 280 minutes, Sample and discard from the reaction, with params (14,)\n",
      "At 300 minutes, Sample and discard from the reaction, with params (15,)\n",
      "At 320 minutes, Sample and discard from the reaction, with params (16,)\n",
      "At 340 minutes, Sample and discard from the reaction, with params (17,)\n",
      "At 360 minutes, Sample and discard from the reaction, with params (18,)\n"
     ]
    }
   ],
   "source": [
    "n_steps_sample = 19\n",
    "n_steps_grow = 18 * 2\n",
    "t_sample = 20    # minutes\n",
    "t_grow = 10\n",
    "v_grow = 9    # ul\n",
    "\n",
    "v_g = 9\n",
    "\n",
    "scheduler.drop()\n",
    "scheduler.cat(time_vec=(np.arange(n_steps_grow) + 1) * t_grow,\n",
    "             func_vec=[grow_test] * n_steps_grow,\n",
    "             param_vec=[(v_g,)] * n_steps_grow,\n",
    "             str_vec=[str_grow] * n_steps_grow,\n",
    "             n_tip_vec=[3] * n_steps_grow)\n",
    "scheduler.cat(time_vec=np.arange(n_steps_sample) * t_sample,\n",
    "             func_vec=[sample_test] * n_steps_sample,\n",
    "             str_vec=[str_sample_and_discard] * n_steps_sample,\n",
    "             n_tip_vec=[2] + [3] * (n_steps_sample - 1),\n",
    "             param_vec=[(i,) for i in range(n_steps_sample)])\n",
    "scheduler.report(unit=\"minutes\")"
   ]
  },
  {
   "cell_type": "code",
   "execution_count": 15,
   "metadata": {},
   "outputs": [],
   "source": [
    "protocol.home()\n",
    "protocol.set_rail_lights(False)"
   ]
  },
  {
   "cell_type": "code",
   "execution_count": null,
   "metadata": {},
   "outputs": [],
   "source": [
    "log_fn = \"log/20230710_test_simulated_growth.log\"\n",
    "scheduler.run(protocol, log_fn)"
   ]
  },
  {
   "cell_type": "markdown",
   "metadata": {},
   "source": [
    "Test on 2023/6/27: Oil layer on all liquids looked fine after the entire protocol. There were two samples mingled with oil. During the actual experiment if this were to happen I'd have to manually suck the oil out (oil goes into the gel doesn't sound good).\n",
    "\n",
    "The reaction volume goes from 39 ul to around 44 ul which could be explained by the fact that some oil instead of the aqueous phase was pipetted out during samping/discarding."
   ]
  }
 ],
 "metadata": {
  "kernelspec": {
   "display_name": "Python 3",
   "language": "python",
   "name": "python3"
  },
  "language_info": {
   "codemirror_mode": {
    "name": "ipython",
    "version": 3
   },
   "file_extension": ".py",
   "mimetype": "text/x-python",
   "name": "python",
   "nbconvert_exporter": "python",
   "pygments_lexer": "ipython3",
   "version": "3.7.1"
  }
 },
 "nbformat": 4,
 "nbformat_minor": 2
}
