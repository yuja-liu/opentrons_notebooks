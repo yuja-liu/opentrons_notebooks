{
 "cells": [
  {
   "cell_type": "code",
   "execution_count": 1,
   "id": "1fd57d59",
   "metadata": {},
   "outputs": [],
   "source": [
    "import numpy as np\n",
    "import opentrons.execute\n",
    "from opentrons import protocol_api\n",
    "from src.pipette_viscous import transfer_viscous,aspirate_viscous, dispense_viscous, calibrated_viscous\n",
    "import src.scheduler as scheduler\n",
    "from src.evap_standard_curve import *\n",
    "# import random, time\n"
   ]
  },
  {
   "cell_type": "code",
   "execution_count": 2,
   "id": "0f4d9213",
   "metadata": {},
   "outputs": [],
   "source": [
    "# >= v2.13 is required for the thermocycler module\n",
    "protocol = opentrons.execute.get_protocol_api(\"2.22\")\n",
    "\n",
    "protocol.set_rail_lights(False)\n",
    "protocol.home()"
   ]
  },
  {
   "cell_type": "code",
   "execution_count": 3,
   "id": "765d279d",
   "metadata": {},
   "outputs": [],
   "source": [
    "# use opentrons 20 ul tips which have the same dimensions as the GEB\n",
    "tip_rack_1 = protocol.load_labware(\"geb_taller_96_tiprack_10ul\", '4')\n",
    "\n",
    "tc_mod = protocol.load_module(module_name='thermocyclerModuleV2')\n",
    "plate = tc_mod.load_labware(name='biorad_96_wellplate_200ul_calibrated')\n",
    "\n",
    "pipette = protocol.load_instrument(\"p10_single\", \"left\", tip_racks = [tip_rack_1])"
   ]
  },
  {
   "cell_type": "code",
   "execution_count": 4,
   "id": "049a78d1",
   "metadata": {},
   "outputs": [],
   "source": [
    "tc_mod.open_lid()\n",
    "protocol.set_rail_lights(True)"
   ]
  },
  {
   "cell_type": "markdown",
   "id": "84c6971b",
   "metadata": {},
   "source": [
    "Add 30 ul of BSA solution to C3 and C4, 70 ul to C5"
   ]
  },
  {
   "cell_type": "code",
   "execution_count": 6,
   "id": "fe165793",
   "metadata": {},
   "outputs": [],
   "source": [
    "VOL = 2\n",
    "\n",
    "for i in range(10):\n",
    "    aspirate_viscous(pipette, protocol, 2, plate.wells_by_name()[\"D5\"], \n",
    "                         asp_height=1.5, \n",
    "                         delay=0, \n",
    "                         if_touch_tip=False)\n",
    "    dispense_viscous(pipette, protocol, 2, plate.wells_by_name()[\"D3\"], \n",
    "                     disp_height=3, \n",
    "                     delay=0, \n",
    "                     if_mix=True, \n",
    "                     mix_rate=0.2, \n",
    "                     if_blowout=False)\n",
    "    aspirate_viscous(pipette, protocol, 2, plate.wells_by_name()[\"D5\"], \n",
    "                         asp_height=1.5, \n",
    "                         delay=0, \n",
    "                         if_touch_tip=False)\n",
    "    dispense_viscous(pipette, protocol, 2, plate.wells_by_name()[\"D4\"], \n",
    "                     disp_height=3, \n",
    "                     delay=0, \n",
    "                     if_mix=True, \n",
    "                     mix_rate=0.2, \n",
    "                     if_blowout=False)\n"
   ]
  },
  {
   "cell_type": "code",
   "execution_count": 7,
   "id": "e4f2b779",
   "metadata": {},
   "outputs": [],
   "source": [
    "protocol.home()\n",
    "protocol.set_rail_lights(False)"
   ]
  },
  {
   "cell_type": "code",
   "execution_count": 9,
   "id": "6ec9c162",
   "metadata": {},
   "outputs": [],
   "source": [
    "tc_mod.deactivate()"
   ]
  },
  {
   "cell_type": "code",
   "execution_count": null,
   "id": "ed318964",
   "metadata": {},
   "outputs": [],
   "source": []
  }
 ],
 "metadata": {
  "kernelspec": {
   "display_name": "Python 3 (ipykernel)",
   "language": "python",
   "name": "python3"
  },
  "language_info": {
   "codemirror_mode": {
    "name": "ipython",
    "version": 3
   },
   "file_extension": ".py",
   "mimetype": "text/x-python",
   "name": "python",
   "nbconvert_exporter": "python",
   "pygments_lexer": "ipython3",
   "version": "3.10.8"
  }
 },
 "nbformat": 4,
 "nbformat_minor": 5
}
