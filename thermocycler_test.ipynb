{
 "cells": [
  {
   "cell_type": "code",
   "execution_count": 1,
   "metadata": {},
   "outputs": [],
   "source": [
    "import numpy as np\n",
    "import opentrons.execute\n",
    "from opentrons import protocol_api\n",
    "\n",
    "protocol = opentrons.execute.get_protocol_api(\"2.13\")\n",
    "\n",
    "protocol.set_rail_lights(True)\n",
    "protocol.home()"
   ]
  },
  {
   "cell_type": "code",
   "execution_count": 2,
   "metadata": {},
   "outputs": [],
   "source": [
    "tip_rack_1 = protocol.load_labware(\"geb_taller_96_tiprack_10ul\", '6')\n",
    "tc_mod = protocol.load_module(module_name='thermocyclerModuleV2')\n",
    "plate = tc_mod.load_labware(name='biorad_96_wellplate_200ul_calibrated')\n",
    "pipette = protocol.load_instrument(\"p10_single\", \"left\", tip_racks = [tip_rack_1])"
   ]
  },
  {
   "cell_type": "code",
   "execution_count": 3,
   "metadata": {},
   "outputs": [],
   "source": [
    "tc_mod.open_lid()\n",
    "\n",
    "pipette.pick_up_tip()\n",
    "pipette.move_to(plate.wells_by_name()[\"A1\"].top());"
   ]
  },
  {
   "cell_type": "code",
   "execution_count": 8,
   "metadata": {},
   "outputs": [],
   "source": [
    "pipette.move_to(plate.wells_by_name()[\"H1\"].bottom(2));"
   ]
  },
  {
   "cell_type": "code",
   "execution_count": 9,
   "metadata": {},
   "outputs": [
    {
     "data": {
      "text/plain": [
       "<InstrumentContext: p10_single_v1.5 in LEFT>"
      ]
     },
     "execution_count": 9,
     "metadata": {},
     "output_type": "execute_result"
    }
   ],
   "source": [
    "pipette.drop_tip()"
   ]
  },
  {
   "cell_type": "code",
   "execution_count": 10,
   "metadata": {},
   "outputs": [],
   "source": [
    "pipette.home();"
   ]
  },
  {
   "cell_type": "code",
   "execution_count": 11,
   "metadata": {},
   "outputs": [],
   "source": [
    "tc_mod.close_lid();"
   ]
  }
 ],
 "metadata": {
  "kernelspec": {
   "display_name": "Python 3",
   "language": "python",
   "name": "python3"
  },
  "language_info": {
   "codemirror_mode": {
    "name": "ipython",
    "version": 3
   },
   "file_extension": ".py",
   "mimetype": "text/x-python",
   "name": "python",
   "nbconvert_exporter": "python",
   "pygments_lexer": "ipython3",
   "version": "3.7.1"
  }
 },
 "nbformat": 4,
 "nbformat_minor": 2
}
